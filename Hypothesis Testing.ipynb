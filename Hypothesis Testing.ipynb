{
 "cells": [
  {
   "cell_type": "markdown",
   "id": "92645407",
   "metadata": {},
   "source": [
    "# Rose Tovar\n",
    "## Hypothesis Testing"
   ]
  },
  {
   "cell_type": "code",
   "execution_count": 1,
   "id": "bcdc66c7",
   "metadata": {},
   "outputs": [],
   "source": [
    "# Imports\n",
    "import pandas as pd\n",
    "import numpy as np\n",
    "import seaborn as sns\n",
    "import matplotlib.pyplot as plt\n",
    "from scipy import stats"
   ]
  },
  {
   "cell_type": "code",
   "execution_count": 2,
   "id": "933aaa35",
   "metadata": {},
   "outputs": [
    {
     "data": {
      "text/html": [
       "<div>\n",
       "<style scoped>\n",
       "    .dataframe tbody tr th:only-of-type {\n",
       "        vertical-align: middle;\n",
       "    }\n",
       "\n",
       "    .dataframe tbody tr th {\n",
       "        vertical-align: top;\n",
       "    }\n",
       "\n",
       "    .dataframe thead th {\n",
       "        text-align: right;\n",
       "    }\n",
       "</style>\n",
       "<table border=\"1\" class=\"dataframe\">\n",
       "  <thead>\n",
       "    <tr style=\"text-align: right;\">\n",
       "      <th></th>\n",
       "      <th>Item_Identifier</th>\n",
       "      <th>Item_Weight</th>\n",
       "      <th>Item_Fat_Content</th>\n",
       "      <th>Item_Visibility</th>\n",
       "      <th>Item_Type</th>\n",
       "      <th>Item_MRP</th>\n",
       "      <th>Outlet_Identifier</th>\n",
       "      <th>Outlet_Establishment_Year</th>\n",
       "      <th>Outlet_Size</th>\n",
       "      <th>Outlet_Location_Type</th>\n",
       "      <th>Outlet_Type</th>\n",
       "      <th>Item_Outlet_Sales</th>\n",
       "    </tr>\n",
       "  </thead>\n",
       "  <tbody>\n",
       "    <tr>\n",
       "      <th>0</th>\n",
       "      <td>FDA15</td>\n",
       "      <td>9.30</td>\n",
       "      <td>Low Fat</td>\n",
       "      <td>0.016047</td>\n",
       "      <td>Dairy</td>\n",
       "      <td>249.8092</td>\n",
       "      <td>OUT049</td>\n",
       "      <td>1999</td>\n",
       "      <td>Medium</td>\n",
       "      <td>Tier 1</td>\n",
       "      <td>Supermarket Type1</td>\n",
       "      <td>3735.1380</td>\n",
       "    </tr>\n",
       "    <tr>\n",
       "      <th>1</th>\n",
       "      <td>DRC01</td>\n",
       "      <td>5.92</td>\n",
       "      <td>Regular</td>\n",
       "      <td>0.019278</td>\n",
       "      <td>Soft Drinks</td>\n",
       "      <td>48.2692</td>\n",
       "      <td>OUT018</td>\n",
       "      <td>2009</td>\n",
       "      <td>Medium</td>\n",
       "      <td>Tier 3</td>\n",
       "      <td>Supermarket Type2</td>\n",
       "      <td>443.4228</td>\n",
       "    </tr>\n",
       "    <tr>\n",
       "      <th>2</th>\n",
       "      <td>FDN15</td>\n",
       "      <td>17.50</td>\n",
       "      <td>Low Fat</td>\n",
       "      <td>0.016760</td>\n",
       "      <td>Meat</td>\n",
       "      <td>141.6180</td>\n",
       "      <td>OUT049</td>\n",
       "      <td>1999</td>\n",
       "      <td>Medium</td>\n",
       "      <td>Tier 1</td>\n",
       "      <td>Supermarket Type1</td>\n",
       "      <td>2097.2700</td>\n",
       "    </tr>\n",
       "    <tr>\n",
       "      <th>3</th>\n",
       "      <td>FDX07</td>\n",
       "      <td>19.20</td>\n",
       "      <td>Regular</td>\n",
       "      <td>0.000000</td>\n",
       "      <td>Fruits and Vegetables</td>\n",
       "      <td>182.0950</td>\n",
       "      <td>OUT010</td>\n",
       "      <td>1998</td>\n",
       "      <td>NaN</td>\n",
       "      <td>Tier 3</td>\n",
       "      <td>Grocery Store</td>\n",
       "      <td>732.3800</td>\n",
       "    </tr>\n",
       "    <tr>\n",
       "      <th>4</th>\n",
       "      <td>NCD19</td>\n",
       "      <td>8.93</td>\n",
       "      <td>Low Fat</td>\n",
       "      <td>0.000000</td>\n",
       "      <td>Household</td>\n",
       "      <td>53.8614</td>\n",
       "      <td>OUT013</td>\n",
       "      <td>1987</td>\n",
       "      <td>High</td>\n",
       "      <td>Tier 3</td>\n",
       "      <td>Supermarket Type1</td>\n",
       "      <td>994.7052</td>\n",
       "    </tr>\n",
       "  </tbody>\n",
       "</table>\n",
       "</div>"
      ],
      "text/plain": [
       "  Item_Identifier  Item_Weight Item_Fat_Content  Item_Visibility  \\\n",
       "0           FDA15         9.30          Low Fat         0.016047   \n",
       "1           DRC01         5.92          Regular         0.019278   \n",
       "2           FDN15        17.50          Low Fat         0.016760   \n",
       "3           FDX07        19.20          Regular         0.000000   \n",
       "4           NCD19         8.93          Low Fat         0.000000   \n",
       "\n",
       "               Item_Type  Item_MRP Outlet_Identifier  \\\n",
       "0                  Dairy  249.8092            OUT049   \n",
       "1            Soft Drinks   48.2692            OUT018   \n",
       "2                   Meat  141.6180            OUT049   \n",
       "3  Fruits and Vegetables  182.0950            OUT010   \n",
       "4              Household   53.8614            OUT013   \n",
       "\n",
       "   Outlet_Establishment_Year Outlet_Size Outlet_Location_Type  \\\n",
       "0                       1999      Medium               Tier 1   \n",
       "1                       2009      Medium               Tier 3   \n",
       "2                       1999      Medium               Tier 1   \n",
       "3                       1998         NaN               Tier 3   \n",
       "4                       1987        High               Tier 3   \n",
       "\n",
       "         Outlet_Type  Item_Outlet_Sales  \n",
       "0  Supermarket Type1          3735.1380  \n",
       "1  Supermarket Type2           443.4228  \n",
       "2  Supermarket Type1          2097.2700  \n",
       "3      Grocery Store           732.3800  \n",
       "4  Supermarket Type1           994.7052  "
      ]
     },
     "execution_count": 2,
     "metadata": {},
     "output_type": "execute_result"
    }
   ],
   "source": [
    "df = pd.read_csv('https://docs.google.com/spreadsheets/d/e/2PACX-1vRuRgiZaLcdq_937t8Psne-9AWR5VwSQYnt6PgMdDPFaVdOeP4xxA9h7_2mAYEsh8DOYzoh0XAqeQa0/pub?gid=2071196080&single=true&output=csv')\n",
    "df.head()"
   ]
  },
  {
   "cell_type": "markdown",
   "id": "3675abce",
   "metadata": {},
   "source": [
    "# Data Cleaning"
   ]
  },
  {
   "cell_type": "code",
   "execution_count": 3,
   "id": "6d2fed22",
   "metadata": {},
   "outputs": [
    {
     "data": {
      "text/plain": [
       "Low Fat    5517\n",
       "Regular    3006\n",
       "Name: Item_Fat_Content, dtype: int64"
      ]
     },
     "execution_count": 3,
     "metadata": {},
     "output_type": "execute_result"
    }
   ],
   "source": [
    "#fixing inconsistencies in Item Fat Content\n",
    "df['Item_Fat_Content'] = df['Item_Fat_Content'].replace('LF', 'Low Fat')\n",
    "df['Item_Fat_Content'] = df['Item_Fat_Content'].replace('reg', \"Regular\")\n",
    "df['Item_Fat_Content'] = df['Item_Fat_Content'].replace('low fat', 'Low Fat')\n",
    "\n",
    "df['Item_Fat_Content'].value_counts()"
   ]
  },
  {
   "cell_type": "markdown",
   "id": "a224c92b",
   "metadata": {},
   "source": [
    "# Hypothesis Test 1\n",
    "- Does Outlet Type Affect how the outlet sales"
   ]
  },
  {
   "cell_type": "markdown",
   "id": "01a3992e",
   "metadata": {},
   "source": [
    "- Null Hypothesis : Outlet Type does not affect item outlet sales\n",
    "- Alternative Hypothesis : Outlet type affects the item outlet sales"
   ]
  },
  {
   "cell_type": "code",
   "execution_count": 4,
   "id": "2f74becd",
   "metadata": {},
   "outputs": [
    {
     "data": {
      "text/html": [
       "<div>\n",
       "<style scoped>\n",
       "    .dataframe tbody tr th:only-of-type {\n",
       "        vertical-align: middle;\n",
       "    }\n",
       "\n",
       "    .dataframe tbody tr th {\n",
       "        vertical-align: top;\n",
       "    }\n",
       "\n",
       "    .dataframe thead th {\n",
       "        text-align: right;\n",
       "    }\n",
       "</style>\n",
       "<table border=\"1\" class=\"dataframe\">\n",
       "  <thead>\n",
       "    <tr style=\"text-align: right;\">\n",
       "      <th></th>\n",
       "      <th>Outlet_Type</th>\n",
       "      <th>Item_Outlet_Sales</th>\n",
       "    </tr>\n",
       "  </thead>\n",
       "  <tbody>\n",
       "    <tr>\n",
       "      <th>0</th>\n",
       "      <td>Supermarket Type1</td>\n",
       "      <td>3735.1380</td>\n",
       "    </tr>\n",
       "    <tr>\n",
       "      <th>1</th>\n",
       "      <td>Supermarket Type2</td>\n",
       "      <td>443.4228</td>\n",
       "    </tr>\n",
       "    <tr>\n",
       "      <th>2</th>\n",
       "      <td>Supermarket Type1</td>\n",
       "      <td>2097.2700</td>\n",
       "    </tr>\n",
       "    <tr>\n",
       "      <th>3</th>\n",
       "      <td>Grocery Store</td>\n",
       "      <td>732.3800</td>\n",
       "    </tr>\n",
       "    <tr>\n",
       "      <th>4</th>\n",
       "      <td>Supermarket Type1</td>\n",
       "      <td>994.7052</td>\n",
       "    </tr>\n",
       "  </tbody>\n",
       "</table>\n",
       "</div>"
      ],
      "text/plain": [
       "         Outlet_Type  Item_Outlet_Sales\n",
       "0  Supermarket Type1          3735.1380\n",
       "1  Supermarket Type2           443.4228\n",
       "2  Supermarket Type1          2097.2700\n",
       "3      Grocery Store           732.3800\n",
       "4  Supermarket Type1           994.7052"
      ]
     },
     "execution_count": 4,
     "metadata": {},
     "output_type": "execute_result"
    }
   ],
   "source": [
    "df1 = df[['Outlet_Type', 'Item_Outlet_Sales']]\n",
    "df1.head()"
   ]
  },
  {
   "cell_type": "code",
   "execution_count": 5,
   "id": "9e142a0b",
   "metadata": {},
   "outputs": [
    {
     "data": {
      "text/plain": [
       "Supermarket Type1    5577\n",
       "Grocery Store        1083\n",
       "Supermarket Type3     935\n",
       "Supermarket Type2     928\n",
       "Name: Outlet_Type, dtype: int64"
      ]
     },
     "execution_count": 5,
     "metadata": {},
     "output_type": "execute_result"
    }
   ],
   "source": [
    "df1['Outlet_Type'].value_counts(dropna=False)"
   ]
  },
  {
   "cell_type": "markdown",
   "id": "7519372d",
   "metadata": {},
   "source": [
    "## Creating Groups for Hypothesis Testing"
   ]
  },
  {
   "cell_type": "code",
   "execution_count": 6,
   "id": "5069d2ea",
   "metadata": {},
   "outputs": [
    {
     "data": {
      "text/plain": [
       "dict_keys(['Supermarket Type1', 'Supermarket Type2', 'Grocery Store', 'Supermarket Type3'])"
      ]
     },
     "execution_count": 6,
     "metadata": {},
     "output_type": "execute_result"
    }
   ],
   "source": [
    "groups = {}\n",
    "for i in df1['Outlet_Type'].unique():\n",
    "    data = df1.loc[df1['Outlet_Type']==i, 'Item_Outlet_Sales'].copy()\n",
    "    \n",
    "    groups[i] = data\n",
    "    \n",
    "groups.keys()"
   ]
  },
  {
   "cell_type": "code",
   "execution_count": 7,
   "id": "4f0129ae",
   "metadata": {},
   "outputs": [
    {
     "data": {
      "text/plain": [
       "1083"
      ]
     },
     "execution_count": 7,
     "metadata": {},
     "output_type": "execute_result"
    }
   ],
   "source": [
    "len(groups['Grocery Store'])"
   ]
  },
  {
   "cell_type": "markdown",
   "id": "9779db5c",
   "metadata": {},
   "source": [
    "## Hypothesis Testing for Multiple Groups\n",
    "\n",
    "- We are dealing with numeric data we must take the following in account: \n",
    "\n",
    "- We must use One way Avona\n",
    "- No Outliers\n",
    "- Normality\n",
    "- Equal Variance"
   ]
  },
  {
   "cell_type": "markdown",
   "id": "536b8e81",
   "metadata": {},
   "source": [
    "### Removing Outliers"
   ]
  },
  {
   "cell_type": "code",
   "execution_count": 8,
   "id": "d64ff627",
   "metadata": {},
   "outputs": [
    {
     "name": "stdout",
     "output_type": "stream",
     "text": [
      "You have 52 outliers in Supermarket Type1\n",
      "You have 11 outliers in Supermarket Type2\n",
      "You have 15 outliers in Grocery Store\n",
      "You have 6 outliers in Supermarket Type3\n"
     ]
    }
   ],
   "source": [
    "for i, data in groups.items():\n",
    "    zscores = stats.zscore(data)\n",
    "    outliers = abs(zscores) > 3\n",
    "    print(f\"You have {np.sum(outliers)} outliers in {i}\")\n",
    "    groups[i] = data[np.abs(stats.zscore(data)) < 3]"
   ]
  },
  {
   "cell_type": "code",
   "execution_count": 9,
   "id": "855d0d4e",
   "metadata": {},
   "outputs": [
    {
     "data": {
      "text/plain": [
       "1068"
      ]
     },
     "execution_count": 9,
     "metadata": {},
     "output_type": "execute_result"
    }
   ],
   "source": [
    "len(groups['Grocery Store'])"
   ]
  },
  {
   "cell_type": "markdown",
   "id": "17f3b555",
   "metadata": {},
   "source": [
    "### Checking For Normality"
   ]
  },
  {
   "cell_type": "code",
   "execution_count": 10,
   "id": "9e39a96b",
   "metadata": {},
   "outputs": [
    {
     "data": {
      "text/html": [
       "<div>\n",
       "<style scoped>\n",
       "    .dataframe tbody tr th:only-of-type {\n",
       "        vertical-align: middle;\n",
       "    }\n",
       "\n",
       "    .dataframe tbody tr th {\n",
       "        vertical-align: top;\n",
       "    }\n",
       "\n",
       "    .dataframe thead th {\n",
       "        text-align: right;\n",
       "    }\n",
       "</style>\n",
       "<table border=\"1\" class=\"dataframe\">\n",
       "  <thead>\n",
       "    <tr style=\"text-align: right;\">\n",
       "      <th></th>\n",
       "      <th>n</th>\n",
       "      <th>p</th>\n",
       "      <th>test_stat</th>\n",
       "    </tr>\n",
       "  </thead>\n",
       "  <tbody>\n",
       "    <tr>\n",
       "      <th>Supermarket Type1</th>\n",
       "      <td>5525.0</td>\n",
       "      <td>4.082593e-107</td>\n",
       "      <td>489.939745</td>\n",
       "    </tr>\n",
       "    <tr>\n",
       "      <th>Supermarket Type2</th>\n",
       "      <td>917.0</td>\n",
       "      <td>5.681445e-24</td>\n",
       "      <td>107.049673</td>\n",
       "    </tr>\n",
       "    <tr>\n",
       "      <th>Grocery Store</th>\n",
       "      <td>1068.0</td>\n",
       "      <td>1.928640e-38</td>\n",
       "      <td>173.682837</td>\n",
       "    </tr>\n",
       "    <tr>\n",
       "      <th>Supermarket Type3</th>\n",
       "      <td>929.0</td>\n",
       "      <td>7.217378e-13</td>\n",
       "      <td>55.914229</td>\n",
       "    </tr>\n",
       "  </tbody>\n",
       "</table>\n",
       "</div>"
      ],
      "text/plain": [
       "                        n              p   test_stat\n",
       "Supermarket Type1  5525.0  4.082593e-107  489.939745\n",
       "Supermarket Type2   917.0   5.681445e-24  107.049673\n",
       "Grocery Store      1068.0   1.928640e-38  173.682837\n",
       "Supermarket Type3   929.0   7.217378e-13   55.914229"
      ]
     },
     "execution_count": 10,
     "metadata": {},
     "output_type": "execute_result"
    }
   ],
   "source": [
    "norm_results = {}\n",
    "for i, data in groups.items():\n",
    "    stat, p = stats.normaltest(data)\n",
    "    \n",
    "    norm_results[i] = {\n",
    "        'n': len(data),\n",
    "        \"p\": p,\n",
    "        'test_stat': stat\n",
    "    }\n",
    "    \n",
    "norm_df = pd.DataFrame(norm_results).T\n",
    "norm_df"
   ]
  },
  {
   "cell_type": "code",
   "execution_count": 11,
   "id": "8997a073",
   "metadata": {},
   "outputs": [
    {
     "data": {
      "text/html": [
       "<div>\n",
       "<style scoped>\n",
       "    .dataframe tbody tr th:only-of-type {\n",
       "        vertical-align: middle;\n",
       "    }\n",
       "\n",
       "    .dataframe tbody tr th {\n",
       "        vertical-align: top;\n",
       "    }\n",
       "\n",
       "    .dataframe thead th {\n",
       "        text-align: right;\n",
       "    }\n",
       "</style>\n",
       "<table border=\"1\" class=\"dataframe\">\n",
       "  <thead>\n",
       "    <tr style=\"text-align: right;\">\n",
       "      <th></th>\n",
       "      <th>n</th>\n",
       "      <th>p</th>\n",
       "      <th>test_stat</th>\n",
       "      <th>sig</th>\n",
       "    </tr>\n",
       "  </thead>\n",
       "  <tbody>\n",
       "    <tr>\n",
       "      <th>Supermarket Type1</th>\n",
       "      <td>5525.0</td>\n",
       "      <td>4.082593e-107</td>\n",
       "      <td>489.939745</td>\n",
       "      <td>True</td>\n",
       "    </tr>\n",
       "    <tr>\n",
       "      <th>Supermarket Type2</th>\n",
       "      <td>917.0</td>\n",
       "      <td>5.681445e-24</td>\n",
       "      <td>107.049673</td>\n",
       "      <td>True</td>\n",
       "    </tr>\n",
       "    <tr>\n",
       "      <th>Grocery Store</th>\n",
       "      <td>1068.0</td>\n",
       "      <td>1.928640e-38</td>\n",
       "      <td>173.682837</td>\n",
       "      <td>True</td>\n",
       "    </tr>\n",
       "    <tr>\n",
       "      <th>Supermarket Type3</th>\n",
       "      <td>929.0</td>\n",
       "      <td>7.217378e-13</td>\n",
       "      <td>55.914229</td>\n",
       "      <td>True</td>\n",
       "    </tr>\n",
       "  </tbody>\n",
       "</table>\n",
       "</div>"
      ],
      "text/plain": [
       "                        n              p   test_stat   sig\n",
       "Supermarket Type1  5525.0  4.082593e-107  489.939745  True\n",
       "Supermarket Type2   917.0   5.681445e-24  107.049673  True\n",
       "Grocery Store      1068.0   1.928640e-38  173.682837  True\n",
       "Supermarket Type3   929.0   7.217378e-13   55.914229  True"
      ]
     },
     "execution_count": 11,
     "metadata": {},
     "output_type": "execute_result"
    }
   ],
   "source": [
    "### checking sig with pandas \n",
    "norm_df['sig'] = norm_df['p'] < .05 \n",
    "norm_df"
   ]
  },
  {
   "cell_type": "markdown",
   "id": "301c1127",
   "metadata": {},
   "source": [
    "- Because the p value is less than .05 for each of these fields we must reject the null hypothesis that they are normal. But because of the amount of points we have in each field we can move forward with hypothesis testing"
   ]
  },
  {
   "cell_type": "markdown",
   "id": "110545cd",
   "metadata": {},
   "source": [
    "### Checking for Equal Variance"
   ]
  },
  {
   "cell_type": "code",
   "execution_count": 12,
   "id": "8f963c12",
   "metadata": {},
   "outputs": [
    {
     "name": "stdout",
     "output_type": "stream",
     "text": [
      "Reject the Null Hypothesis\n"
     ]
    }
   ],
   "source": [
    "results = stats.levene(*groups.values())\n",
    "if results.pvalue < 0.05:\n",
    "    print(\"Reject the Null Hypothesis\")\n",
    "else:\n",
    "    print('The Null Hypothesis is correct')"
   ]
  },
  {
   "cell_type": "markdown",
   "id": "ccb33733",
   "metadata": {},
   "source": [
    "- Because we have  p value less than .05 we must reject the null hypothesis that they have equal variance. This means we must move forward with using the Kruskal Wallis Test"
   ]
  },
  {
   "cell_type": "markdown",
   "id": "62a7d99c",
   "metadata": {},
   "source": [
    "### Final Hypothosis Test"
   ]
  },
  {
   "cell_type": "code",
   "execution_count": 13,
   "id": "1d0429c7",
   "metadata": {},
   "outputs": [
    {
     "name": "stdout",
     "output_type": "stream",
     "text": [
      "Reject the Null Hypothesis\n"
     ]
    }
   ],
   "source": [
    "results = stats.kruskal(*groups.values())\n",
    "if results.pvalue < 0.05:\n",
    "    print(\"Reject the Null Hypothesis\")\n",
    "else:\n",
    "    print('The Null Hypothesis is correct')"
   ]
  },
  {
   "cell_type": "markdown",
   "id": "da460333",
   "metadata": {},
   "source": [
    "- Our Kruskal Wallis Test told us to reject the null hypothesis that Outlet types make  more Item Outlet Sales"
   ]
  },
  {
   "cell_type": "code",
   "execution_count": 14,
   "id": "48a4f671",
   "metadata": {},
   "outputs": [
    {
     "data": {
      "text/html": [
       "<div>\n",
       "<style scoped>\n",
       "    .dataframe tbody tr th:only-of-type {\n",
       "        vertical-align: middle;\n",
       "    }\n",
       "\n",
       "    .dataframe tbody tr th {\n",
       "        vertical-align: top;\n",
       "    }\n",
       "\n",
       "    .dataframe thead th {\n",
       "        text-align: right;\n",
       "    }\n",
       "</style>\n",
       "<table border=\"1\" class=\"dataframe\">\n",
       "  <thead>\n",
       "    <tr style=\"text-align: right;\">\n",
       "      <th></th>\n",
       "      <th>Outlet_Type</th>\n",
       "      <th>Item_Outlet_Sales</th>\n",
       "    </tr>\n",
       "  </thead>\n",
       "  <tbody>\n",
       "    <tr>\n",
       "      <th>0</th>\n",
       "      <td>Supermarket Type1</td>\n",
       "      <td>3735.1380</td>\n",
       "    </tr>\n",
       "    <tr>\n",
       "      <th>1</th>\n",
       "      <td>Supermarket Type1</td>\n",
       "      <td>2097.2700</td>\n",
       "    </tr>\n",
       "    <tr>\n",
       "      <th>2</th>\n",
       "      <td>Supermarket Type1</td>\n",
       "      <td>994.7052</td>\n",
       "    </tr>\n",
       "    <tr>\n",
       "      <th>3</th>\n",
       "      <td>Supermarket Type1</td>\n",
       "      <td>343.5528</td>\n",
       "    </tr>\n",
       "    <tr>\n",
       "      <th>4</th>\n",
       "      <td>Supermarket Type1</td>\n",
       "      <td>1076.5986</td>\n",
       "    </tr>\n",
       "  </tbody>\n",
       "</table>\n",
       "</div>"
      ],
      "text/plain": [
       "         Outlet_Type  Item_Outlet_Sales\n",
       "0  Supermarket Type1          3735.1380\n",
       "1  Supermarket Type1          2097.2700\n",
       "2  Supermarket Type1           994.7052\n",
       "3  Supermarket Type1           343.5528\n",
       "4  Supermarket Type1          1076.5986"
      ]
     },
     "execution_count": 14,
     "metadata": {},
     "output_type": "execute_result"
    }
   ],
   "source": [
    "df1 = pd.DataFrame(columns=['Outlet_Type', 'Item_Outlet_Sales'])\n",
    "counter = 0\n",
    "for i in groups:\n",
    "    for num in groups[i]:\n",
    "        df1.loc[counter] = [i, num]\n",
    "        counter +=1\n",
    "df1.reset_index()\n",
    "df1.head()"
   ]
  },
  {
   "cell_type": "code",
   "execution_count": 31,
   "id": "310027a9",
   "metadata": {},
   "outputs": [
    {
     "data": {
      "image/png": "[encoded data removed]",
      "text/plain": [
       "<Figure size 1000x700 with 1 Axes>"
      ]
     },
     "metadata": {},
     "output_type": "display_data"
    }
   ],
   "source": [
    "fig, ax = plt.subplots(figsize=(10,7))\n",
    "sns.barplot(data=df1, x='Outlet_Type', y='Item_Outlet_Sales',ax=ax)\n",
    "ax.set_xlabel(\"Outlet_Type\", fontsize=18,labelpad=15)\n",
    "ax.set_ylabel(\"Item_Outlet_Sales\", fontsize=18,labelpad=15)\n",
    "ax.set_title('Outlet Type with Sales on Average', fontsize=20)\n",
    "ax.tick_params(axis = 'both', which = 'major', labelsize = 15)\n",
    "plt.tight_layout()"
   ]
  },
  {
   "cell_type": "markdown",
   "id": "2afc0e68",
   "metadata": {},
   "source": [
    "# Hypothesis Test 2"
   ]
  },
  {
   "cell_type": "markdown",
   "id": "4b5d1153",
   "metadata": {},
   "source": [
    " - Do Item Types have different Item Outlet Sales\n",
    " \n",
    " - Null Hypothesis: Item Types have around the same item outlet sales\n",
    " - Alternative Hypothesis: Certain item Types have better Itme outlet Sales"
   ]
  },
  {
   "cell_type": "markdown",
   "id": "0703487d",
   "metadata": {},
   "source": [
    "## Pulling Data"
   ]
  },
  {
   "cell_type": "code",
   "execution_count": 16,
   "id": "f0280af8",
   "metadata": {},
   "outputs": [
    {
     "data": {
      "text/html": [
       "<div>\n",
       "<style scoped>\n",
       "    .dataframe tbody tr th:only-of-type {\n",
       "        vertical-align: middle;\n",
       "    }\n",
       "\n",
       "    .dataframe tbody tr th {\n",
       "        vertical-align: top;\n",
       "    }\n",
       "\n",
       "    .dataframe thead th {\n",
       "        text-align: right;\n",
       "    }\n",
       "</style>\n",
       "<table border=\"1\" class=\"dataframe\">\n",
       "  <thead>\n",
       "    <tr style=\"text-align: right;\">\n",
       "      <th></th>\n",
       "      <th>Item_Type</th>\n",
       "      <th>Item_Outlet_Sales</th>\n",
       "    </tr>\n",
       "  </thead>\n",
       "  <tbody>\n",
       "    <tr>\n",
       "      <th>0</th>\n",
       "      <td>Dairy</td>\n",
       "      <td>3735.1380</td>\n",
       "    </tr>\n",
       "    <tr>\n",
       "      <th>1</th>\n",
       "      <td>Soft Drinks</td>\n",
       "      <td>443.4228</td>\n",
       "    </tr>\n",
       "    <tr>\n",
       "      <th>2</th>\n",
       "      <td>Meat</td>\n",
       "      <td>2097.2700</td>\n",
       "    </tr>\n",
       "    <tr>\n",
       "      <th>3</th>\n",
       "      <td>Fruits and Vegetables</td>\n",
       "      <td>732.3800</td>\n",
       "    </tr>\n",
       "    <tr>\n",
       "      <th>4</th>\n",
       "      <td>Household</td>\n",
       "      <td>994.7052</td>\n",
       "    </tr>\n",
       "  </tbody>\n",
       "</table>\n",
       "</div>"
      ],
      "text/plain": [
       "               Item_Type  Item_Outlet_Sales\n",
       "0                  Dairy          3735.1380\n",
       "1            Soft Drinks           443.4228\n",
       "2                   Meat          2097.2700\n",
       "3  Fruits and Vegetables           732.3800\n",
       "4              Household           994.7052"
      ]
     },
     "execution_count": 16,
     "metadata": {},
     "output_type": "execute_result"
    }
   ],
   "source": [
    "df2 = df[['Item_Type', 'Item_Outlet_Sales']]\n",
    "df2.head()"
   ]
  },
  {
   "cell_type": "code",
   "execution_count": 17,
   "id": "30975c55",
   "metadata": {},
   "outputs": [
    {
     "data": {
      "text/plain": [
       "Fruits and Vegetables    1232\n",
       "Snack Foods              1200\n",
       "Household                 910\n",
       "Frozen Foods              856\n",
       "Dairy                     682\n",
       "Canned                    649\n",
       "Baking Goods              648\n",
       "Health and Hygiene        520\n",
       "Soft Drinks               445\n",
       "Meat                      425\n",
       "Breads                    251\n",
       "Hard Drinks               214\n",
       "Others                    169\n",
       "Starchy Foods             148\n",
       "Breakfast                 110\n",
       "Seafood                    64\n",
       "Name: Item_Type, dtype: int64"
      ]
     },
     "execution_count": 17,
     "metadata": {},
     "output_type": "execute_result"
    }
   ],
   "source": [
    "df2['Item_Type'].value_counts(dropna=False)"
   ]
  },
  {
   "cell_type": "markdown",
   "id": "c4629468",
   "metadata": {},
   "source": [
    "## Creating Groups"
   ]
  },
  {
   "cell_type": "code",
   "execution_count": 18,
   "id": "efcc4351",
   "metadata": {},
   "outputs": [
    {
     "data": {
      "text/plain": [
       "dict_keys(['Dairy', 'Soft Drinks', 'Meat', 'Fruits and Vegetables', 'Household', 'Baking Goods', 'Snack Foods', 'Frozen Foods', 'Breakfast', 'Health and Hygiene', 'Hard Drinks', 'Canned', 'Breads', 'Starchy Foods', 'Others', 'Seafood'])"
      ]
     },
     "execution_count": 18,
     "metadata": {},
     "output_type": "execute_result"
    }
   ],
   "source": [
    "groups = {}\n",
    "for i in df2['Item_Type'].unique():\n",
    "    data = df2.loc[df2['Item_Type'] == i, 'Item_Outlet_Sales'].copy()\n",
    "    \n",
    "    groups[i] = data\n",
    "    \n",
    "groups.keys()"
   ]
  },
  {
   "cell_type": "code",
   "execution_count": 19,
   "id": "1cdec84f",
   "metadata": {},
   "outputs": [
    {
     "data": {
      "text/plain": [
       "682"
      ]
     },
     "execution_count": 19,
     "metadata": {},
     "output_type": "execute_result"
    }
   ],
   "source": [
    "len(groups['Dairy'])"
   ]
  },
  {
   "cell_type": "markdown",
   "id": "fa3af9ba",
   "metadata": {},
   "source": [
    "## Hypothesis Testing For Multiple Groups"
   ]
  },
  {
   "cell_type": "markdown",
   "id": "e2c1efee",
   "metadata": {},
   "source": [
    "- Because we are dealing with numeric data with multiple groups we must take in to account the following"
   ]
  },
  {
   "cell_type": "markdown",
   "id": "04e330ac",
   "metadata": {},
   "source": [
    "- We must use One way Avona"
   ]
  },
  {
   "cell_type": "markdown",
   "id": "5a1dea9c",
   "metadata": {},
   "source": [
    "- No Outliers\n",
    "- Normality\n",
    "- Equal Variance"
   ]
  },
  {
   "cell_type": "markdown",
   "id": "6f8bec02",
   "metadata": {},
   "source": [
    "### Removing Outliers"
   ]
  },
  {
   "cell_type": "code",
   "execution_count": 20,
   "id": "2d30d8ce",
   "metadata": {},
   "outputs": [
    {
     "name": "stdout",
     "output_type": "stream",
     "text": [
      "You have 11 outliers in Dairy\n",
      "You have 8 outliers in Soft Drinks\n",
      "You have 4 outliers in Meat\n",
      "You have 10 outliers in Fruits and Vegetables\n",
      "You have 7 outliers in Household\n",
      "You have 7 outliers in Baking Goods\n",
      "You have 14 outliers in Snack Foods\n",
      "You have 8 outliers in Frozen Foods\n",
      "You have 2 outliers in Breakfast\n",
      "You have 8 outliers in Health and Hygiene\n",
      "You have 3 outliers in Hard Drinks\n",
      "You have 5 outliers in Canned\n",
      "You have 2 outliers in Breads\n",
      "You have 1 outliers in Starchy Foods\n",
      "You have 0 outliers in Others\n",
      "You have 0 outliers in Seafood\n"
     ]
    }
   ],
   "source": [
    "# this loops through and remove outliers\n",
    "for i, data in groups.items():\n",
    "    zscores = stats.zscore(data)\n",
    "    outliers = abs(zscores) > 3\n",
    "    print(f\"You have {np.sum(outliers)} outliers in {i}\")\n",
    "    groups[i] = data[np.abs(stats.zscore(data)) < 3]"
   ]
  },
  {
   "cell_type": "code",
   "execution_count": 21,
   "id": "cd2b00ae",
   "metadata": {},
   "outputs": [
    {
     "data": {
      "text/plain": [
       "671"
      ]
     },
     "execution_count": 21,
     "metadata": {},
     "output_type": "execute_result"
    }
   ],
   "source": [
    "len(groups['Dairy'])"
   ]
  },
  {
   "cell_type": "markdown",
   "id": "b2930023",
   "metadata": {},
   "source": [
    "### Check For Normality"
   ]
  },
  {
   "cell_type": "code",
   "execution_count": 22,
   "id": "42b01603",
   "metadata": {},
   "outputs": [
    {
     "data": {
      "text/html": [
       "<div>\n",
       "<style scoped>\n",
       "    .dataframe tbody tr th:only-of-type {\n",
       "        vertical-align: middle;\n",
       "    }\n",
       "\n",
       "    .dataframe tbody tr th {\n",
       "        vertical-align: top;\n",
       "    }\n",
       "\n",
       "    .dataframe thead th {\n",
       "        text-align: right;\n",
       "    }\n",
       "</style>\n",
       "<table border=\"1\" class=\"dataframe\">\n",
       "  <thead>\n",
       "    <tr style=\"text-align: right;\">\n",
       "      <th></th>\n",
       "      <th>n</th>\n",
       "      <th>p</th>\n",
       "      <th>test_stat</th>\n",
       "    </tr>\n",
       "  </thead>\n",
       "  <tbody>\n",
       "    <tr>\n",
       "      <th>Dairy</th>\n",
       "      <td>671.0</td>\n",
       "      <td>2.841185e-19</td>\n",
       "      <td>85.409791</td>\n",
       "    </tr>\n",
       "    <tr>\n",
       "      <th>Soft Drinks</th>\n",
       "      <td>437.0</td>\n",
       "      <td>1.391906e-15</td>\n",
       "      <td>68.416204</td>\n",
       "    </tr>\n",
       "    <tr>\n",
       "      <th>Meat</th>\n",
       "      <td>421.0</td>\n",
       "      <td>1.901418e-10</td>\n",
       "      <td>44.766503</td>\n",
       "    </tr>\n",
       "    <tr>\n",
       "      <th>Fruits and Vegetables</th>\n",
       "      <td>1222.0</td>\n",
       "      <td>2.743323e-28</td>\n",
       "      <td>126.926425</td>\n",
       "    </tr>\n",
       "    <tr>\n",
       "      <th>Household</th>\n",
       "      <td>903.0</td>\n",
       "      <td>4.548575e-16</td>\n",
       "      <td>70.653095</td>\n",
       "    </tr>\n",
       "    <tr>\n",
       "      <th>Baking Goods</th>\n",
       "      <td>641.0</td>\n",
       "      <td>9.986473e-17</td>\n",
       "      <td>73.685430</td>\n",
       "    </tr>\n",
       "    <tr>\n",
       "      <th>Snack Foods</th>\n",
       "      <td>1186.0</td>\n",
       "      <td>5.481006e-23</td>\n",
       "      <td>102.516337</td>\n",
       "    </tr>\n",
       "    <tr>\n",
       "      <th>Frozen Foods</th>\n",
       "      <td>848.0</td>\n",
       "      <td>3.540229e-21</td>\n",
       "      <td>94.180191</td>\n",
       "    </tr>\n",
       "    <tr>\n",
       "      <th>Breakfast</th>\n",
       "      <td>108.0</td>\n",
       "      <td>1.642043e-05</td>\n",
       "      <td>22.033968</td>\n",
       "    </tr>\n",
       "    <tr>\n",
       "      <th>Health and Hygiene</th>\n",
       "      <td>512.0</td>\n",
       "      <td>1.988884e-12</td>\n",
       "      <td>53.886895</td>\n",
       "    </tr>\n",
       "    <tr>\n",
       "      <th>Hard Drinks</th>\n",
       "      <td>211.0</td>\n",
       "      <td>7.498501e-05</td>\n",
       "      <td>18.996445</td>\n",
       "    </tr>\n",
       "    <tr>\n",
       "      <th>Canned</th>\n",
       "      <td>644.0</td>\n",
       "      <td>4.969030e-14</td>\n",
       "      <td>61.265933</td>\n",
       "    </tr>\n",
       "    <tr>\n",
       "      <th>Breads</th>\n",
       "      <td>249.0</td>\n",
       "      <td>3.974831e-07</td>\n",
       "      <td>29.476227</td>\n",
       "    </tr>\n",
       "    <tr>\n",
       "      <th>Starchy Foods</th>\n",
       "      <td>147.0</td>\n",
       "      <td>2.347816e-03</td>\n",
       "      <td>12.108539</td>\n",
       "    </tr>\n",
       "    <tr>\n",
       "      <th>Others</th>\n",
       "      <td>169.0</td>\n",
       "      <td>7.254603e-04</td>\n",
       "      <td>14.457408</td>\n",
       "    </tr>\n",
       "    <tr>\n",
       "      <th>Seafood</th>\n",
       "      <td>64.0</td>\n",
       "      <td>2.639040e-02</td>\n",
       "      <td>7.269510</td>\n",
       "    </tr>\n",
       "  </tbody>\n",
       "</table>\n",
       "</div>"
      ],
      "text/plain": [
       "                            n             p   test_stat\n",
       "Dairy                   671.0  2.841185e-19   85.409791\n",
       "Soft Drinks             437.0  1.391906e-15   68.416204\n",
       "Meat                    421.0  1.901418e-10   44.766503\n",
       "Fruits and Vegetables  1222.0  2.743323e-28  126.926425\n",
       "Household               903.0  4.548575e-16   70.653095\n",
       "Baking Goods            641.0  9.986473e-17   73.685430\n",
       "Snack Foods            1186.0  5.481006e-23  102.516337\n",
       "Frozen Foods            848.0  3.540229e-21   94.180191\n",
       "Breakfast               108.0  1.642043e-05   22.033968\n",
       "Health and Hygiene      512.0  1.988884e-12   53.886895\n",
       "Hard Drinks             211.0  7.498501e-05   18.996445\n",
       "Canned                  644.0  4.969030e-14   61.265933\n",
       "Breads                  249.0  3.974831e-07   29.476227\n",
       "Starchy Foods           147.0  2.347816e-03   12.108539\n",
       "Others                  169.0  7.254603e-04   14.457408\n",
       "Seafood                  64.0  2.639040e-02    7.269510"
      ]
     },
     "execution_count": 22,
     "metadata": {},
     "output_type": "execute_result"
    }
   ],
   "source": [
    "### Run normal for each cell\n",
    "norm_results = {}\n",
    "for i, data in groups.items():\n",
    "    stat, p = stats.normaltest(data)\n",
    "    \n",
    "    norm_results[i] = {\n",
    "        'n': len(data),\n",
    "        \"p\": p,\n",
    "        \"test_stat\": stat\n",
    "    }\n",
    "\n",
    "norm_results_df = pd.DataFrame(norm_results).T\n",
    "norm_results_df"
   ]
  },
  {
   "cell_type": "code",
   "execution_count": 23,
   "id": "5a42bdf4",
   "metadata": {},
   "outputs": [
    {
     "data": {
      "text/html": [
       "<div>\n",
       "<style scoped>\n",
       "    .dataframe tbody tr th:only-of-type {\n",
       "        vertical-align: middle;\n",
       "    }\n",
       "\n",
       "    .dataframe tbody tr th {\n",
       "        vertical-align: top;\n",
       "    }\n",
       "\n",
       "    .dataframe thead th {\n",
       "        text-align: right;\n",
       "    }\n",
       "</style>\n",
       "<table border=\"1\" class=\"dataframe\">\n",
       "  <thead>\n",
       "    <tr style=\"text-align: right;\">\n",
       "      <th></th>\n",
       "      <th>n</th>\n",
       "      <th>p</th>\n",
       "      <th>test_stat</th>\n",
       "      <th>sig</th>\n",
       "    </tr>\n",
       "  </thead>\n",
       "  <tbody>\n",
       "    <tr>\n",
       "      <th>Dairy</th>\n",
       "      <td>671.0</td>\n",
       "      <td>2.841185e-19</td>\n",
       "      <td>85.409791</td>\n",
       "      <td>True</td>\n",
       "    </tr>\n",
       "    <tr>\n",
       "      <th>Soft Drinks</th>\n",
       "      <td>437.0</td>\n",
       "      <td>1.391906e-15</td>\n",
       "      <td>68.416204</td>\n",
       "      <td>True</td>\n",
       "    </tr>\n",
       "    <tr>\n",
       "      <th>Meat</th>\n",
       "      <td>421.0</td>\n",
       "      <td>1.901418e-10</td>\n",
       "      <td>44.766503</td>\n",
       "      <td>True</td>\n",
       "    </tr>\n",
       "    <tr>\n",
       "      <th>Fruits and Vegetables</th>\n",
       "      <td>1222.0</td>\n",
       "      <td>2.743323e-28</td>\n",
       "      <td>126.926425</td>\n",
       "      <td>True</td>\n",
       "    </tr>\n",
       "    <tr>\n",
       "      <th>Household</th>\n",
       "      <td>903.0</td>\n",
       "      <td>4.548575e-16</td>\n",
       "      <td>70.653095</td>\n",
       "      <td>True</td>\n",
       "    </tr>\n",
       "    <tr>\n",
       "      <th>Baking Goods</th>\n",
       "      <td>641.0</td>\n",
       "      <td>9.986473e-17</td>\n",
       "      <td>73.685430</td>\n",
       "      <td>True</td>\n",
       "    </tr>\n",
       "    <tr>\n",
       "      <th>Snack Foods</th>\n",
       "      <td>1186.0</td>\n",
       "      <td>5.481006e-23</td>\n",
       "      <td>102.516337</td>\n",
       "      <td>True</td>\n",
       "    </tr>\n",
       "    <tr>\n",
       "      <th>Frozen Foods</th>\n",
       "      <td>848.0</td>\n",
       "      <td>3.540229e-21</td>\n",
       "      <td>94.180191</td>\n",
       "      <td>True</td>\n",
       "    </tr>\n",
       "    <tr>\n",
       "      <th>Breakfast</th>\n",
       "      <td>108.0</td>\n",
       "      <td>1.642043e-05</td>\n",
       "      <td>22.033968</td>\n",
       "      <td>True</td>\n",
       "    </tr>\n",
       "    <tr>\n",
       "      <th>Health and Hygiene</th>\n",
       "      <td>512.0</td>\n",
       "      <td>1.988884e-12</td>\n",
       "      <td>53.886895</td>\n",
       "      <td>True</td>\n",
       "    </tr>\n",
       "    <tr>\n",
       "      <th>Hard Drinks</th>\n",
       "      <td>211.0</td>\n",
       "      <td>7.498501e-05</td>\n",
       "      <td>18.996445</td>\n",
       "      <td>True</td>\n",
       "    </tr>\n",
       "    <tr>\n",
       "      <th>Canned</th>\n",
       "      <td>644.0</td>\n",
       "      <td>4.969030e-14</td>\n",
       "      <td>61.265933</td>\n",
       "      <td>True</td>\n",
       "    </tr>\n",
       "    <tr>\n",
       "      <th>Breads</th>\n",
       "      <td>249.0</td>\n",
       "      <td>3.974831e-07</td>\n",
       "      <td>29.476227</td>\n",
       "      <td>True</td>\n",
       "    </tr>\n",
       "    <tr>\n",
       "      <th>Starchy Foods</th>\n",
       "      <td>147.0</td>\n",
       "      <td>2.347816e-03</td>\n",
       "      <td>12.108539</td>\n",
       "      <td>True</td>\n",
       "    </tr>\n",
       "    <tr>\n",
       "      <th>Others</th>\n",
       "      <td>169.0</td>\n",
       "      <td>7.254603e-04</td>\n",
       "      <td>14.457408</td>\n",
       "      <td>True</td>\n",
       "    </tr>\n",
       "    <tr>\n",
       "      <th>Seafood</th>\n",
       "      <td>64.0</td>\n",
       "      <td>2.639040e-02</td>\n",
       "      <td>7.269510</td>\n",
       "      <td>True</td>\n",
       "    </tr>\n",
       "  </tbody>\n",
       "</table>\n",
       "</div>"
      ],
      "text/plain": [
       "                            n             p   test_stat   sig\n",
       "Dairy                   671.0  2.841185e-19   85.409791  True\n",
       "Soft Drinks             437.0  1.391906e-15   68.416204  True\n",
       "Meat                    421.0  1.901418e-10   44.766503  True\n",
       "Fruits and Vegetables  1222.0  2.743323e-28  126.926425  True\n",
       "Household               903.0  4.548575e-16   70.653095  True\n",
       "Baking Goods            641.0  9.986473e-17   73.685430  True\n",
       "Snack Foods            1186.0  5.481006e-23  102.516337  True\n",
       "Frozen Foods            848.0  3.540229e-21   94.180191  True\n",
       "Breakfast               108.0  1.642043e-05   22.033968  True\n",
       "Health and Hygiene      512.0  1.988884e-12   53.886895  True\n",
       "Hard Drinks             211.0  7.498501e-05   18.996445  True\n",
       "Canned                  644.0  4.969030e-14   61.265933  True\n",
       "Breads                  249.0  3.974831e-07   29.476227  True\n",
       "Starchy Foods           147.0  2.347816e-03   12.108539  True\n",
       "Others                  169.0  7.254603e-04   14.457408  True\n",
       "Seafood                  64.0  2.639040e-02    7.269510  True"
      ]
     },
     "execution_count": 23,
     "metadata": {},
     "output_type": "execute_result"
    }
   ],
   "source": [
    "### checking sig with pandas \n",
    "norm_results_df['sig'] = norm_results_df['p'] < .05 \n",
    "norm_results_df"
   ]
  },
  {
   "cell_type": "markdown",
   "id": "ddb5d775",
   "metadata": {},
   "source": [
    "- because the p value is less than .05 for each of these we must reject the null hypothesis that they are normal. But because of the amount of data points in each group we can move forward with the hypothesis testing"
   ]
  },
  {
   "cell_type": "markdown",
   "id": "163da680",
   "metadata": {},
   "source": [
    "### Checking for Equal Variance"
   ]
  },
  {
   "cell_type": "code",
   "execution_count": 24,
   "id": "148227a9",
   "metadata": {},
   "outputs": [
    {
     "name": "stdout",
     "output_type": "stream",
     "text": [
      "Reject the Null Hypothesis\n"
     ]
    }
   ],
   "source": [
    "# Testing for equal variance\n",
    "results = stats.levene(*groups.values())\n",
    "if results.pvalue < 0.05:\n",
    "    print(\"Reject the Null Hypothesis\")\n",
    "else:\n",
    "    print('The Null Hypothesis is correct')"
   ]
  },
  {
   "cell_type": "markdown",
   "id": "f2a07ab9",
   "metadata": {},
   "source": [
    "- When we use the levene test in order to test for equal variance we can see that we must reject the null hypothesis that they have equal variance. This means we must move forward with using the Kruskal Wallis test"
   ]
  },
  {
   "cell_type": "markdown",
   "id": "49d7046e",
   "metadata": {},
   "source": [
    "### Final Hypothesis Test"
   ]
  },
  {
   "cell_type": "code",
   "execution_count": 25,
   "id": "70d6b731",
   "metadata": {},
   "outputs": [
    {
     "name": "stdout",
     "output_type": "stream",
     "text": [
      "Reject the Null Hypothesis\n"
     ]
    }
   ],
   "source": [
    "results = stats.kruskal(*groups.values())\n",
    "\n",
    "if results.pvalue < 0.05:\n",
    "    print(\"Reject the Null Hypothesis\")\n",
    "else:\n",
    "    print('The Null Hypothesis is correct')"
   ]
  },
  {
   "cell_type": "markdown",
   "id": "bbe8dbad",
   "metadata": {},
   "source": [
    "- Our Kruskal Wallis Test tells us to reject the null hypothesis that Item Type does not affect Item Outlet Sales. This test tells us that there is a signficant difference in Item Outlet Sales based on item type"
   ]
  },
  {
   "cell_type": "code",
   "execution_count": 27,
   "id": "e331c03a",
   "metadata": {},
   "outputs": [
    {
     "data": {
      "text/html": [
       "<div>\n",
       "<style scoped>\n",
       "    .dataframe tbody tr th:only-of-type {\n",
       "        vertical-align: middle;\n",
       "    }\n",
       "\n",
       "    .dataframe tbody tr th {\n",
       "        vertical-align: top;\n",
       "    }\n",
       "\n",
       "    .dataframe thead th {\n",
       "        text-align: right;\n",
       "    }\n",
       "</style>\n",
       "<table border=\"1\" class=\"dataframe\">\n",
       "  <thead>\n",
       "    <tr style=\"text-align: right;\">\n",
       "      <th></th>\n",
       "      <th>Item_Type</th>\n",
       "      <th>Item_Outlet_Sales</th>\n",
       "    </tr>\n",
       "  </thead>\n",
       "  <tbody>\n",
       "    <tr>\n",
       "      <th>0</th>\n",
       "      <td>Dairy</td>\n",
       "      <td>3735.1380</td>\n",
       "    </tr>\n",
       "    <tr>\n",
       "      <th>1</th>\n",
       "      <td>Dairy</td>\n",
       "      <td>2187.1530</td>\n",
       "    </tr>\n",
       "    <tr>\n",
       "      <th>2</th>\n",
       "      <td>Dairy</td>\n",
       "      <td>2748.4224</td>\n",
       "    </tr>\n",
       "    <tr>\n",
       "      <th>3</th>\n",
       "      <td>Dairy</td>\n",
       "      <td>178.4344</td>\n",
       "    </tr>\n",
       "    <tr>\n",
       "      <th>4</th>\n",
       "      <td>Dairy</td>\n",
       "      <td>163.7868</td>\n",
       "    </tr>\n",
       "  </tbody>\n",
       "</table>\n",
       "</div>"
      ],
      "text/plain": [
       "  Item_Type  Item_Outlet_Sales\n",
       "0     Dairy          3735.1380\n",
       "1     Dairy          2187.1530\n",
       "2     Dairy          2748.4224\n",
       "3     Dairy           178.4344\n",
       "4     Dairy           163.7868"
      ]
     },
     "execution_count": 27,
     "metadata": {},
     "output_type": "execute_result"
    }
   ],
   "source": [
    "df2 = pd.DataFrame(columns=['Item_Type', 'Item_Outlet_Sales'])\n",
    "counter = 0\n",
    "for i in groups:\n",
    "    for num in groups[i]:\n",
    "        df2.loc[counter] = [i, num]\n",
    "        counter +=1\n",
    "df2.reset_index()\n",
    "df2.head()"
   ]
  },
  {
   "cell_type": "code",
   "execution_count": 32,
   "id": "6f21d0cf",
   "metadata": {},
   "outputs": [
    {
     "data": {
      "image/png": "[encoded data removed]",
      "text/plain": [
       "<Figure size 1000x700 with 1 Axes>"
      ]
     },
     "metadata": {},
     "output_type": "display_data"
    }
   ],
   "source": [
    "fig, ax = plt.subplots(figsize=(10,7))\n",
    "sns.barplot(data=df2, x='Item_Type', y='Item_Outlet_Sales',ax=ax)\n",
    "ax.set_xlabel(\"Item_Type\", fontsize=18,labelpad=15)\n",
    "ax.set_ylabel(\"Item_Outlet_Sales\", fontsize=18,labelpad=15)\n",
    "ax.set_title('Outlet Type with Sales on Average', fontsize=20)\n",
    "ax.tick_params(axis = 'both', which = 'major', labelsize = 15, rotation=90)\n",
    "plt.tight_layout()"
   ]
  },
  {
   "cell_type": "markdown",
   "id": "ab175efc",
   "metadata": {},
   "source": [
    "> This plot shows us that different Items have different Item Outlet Sales. This confirms out hypothesis testing that there is a difference in Item Outlet Sales based on the Item Type"
   ]
  },
  {
   "cell_type": "code",
   "execution_count": null,
   "id": "619eb64d",
   "metadata": {},
   "outputs": [],
   "source": []
  }
 ],
 "metadata": {
  "kernelspec": {
   "display_name": "Python (dojo-env)",
   "language": "python",
   "name": "dojo-env"
  },
  "language_info": {
   "codemirror_mode": {
    "name": "ipython",
    "version": 3
   },
   "file_extension": ".py",
   "mimetype": "text/x-python",
   "name": "python",
   "nbconvert_exporter": "python",
   "pygments_lexer": "ipython3",
   "version": "3.8.13"
  },
  "toc": {
   "base_numbering": 1,
   "nav_menu": {},
   "number_sections": true,
   "sideBar": true,
   "skip_h1_title": false,
   "title_cell": "Table of Contents",
   "title_sidebar": "Contents",
   "toc_cell": false,
   "toc_position": {},
   "toc_section_display": true,
   "toc_window_display": false
  }
 },
 "nbformat": 4,
 "nbformat_minor": 5
}
